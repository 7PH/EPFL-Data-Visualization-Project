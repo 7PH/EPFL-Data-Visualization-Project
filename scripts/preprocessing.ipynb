{
 "cells": [
  {
   "cell_type": "code",
   "execution_count": null,
   "metadata": {},
   "outputs": [],
   "source": [
    "import pandas as pd\n",
    "import numpy as np\n",
    "import requests\n",
    "import io\n",
    "import re\n",
    "import datetime\n",
    "import math\n",
    "import itertools "
   ]
  },
  {
   "cell_type": "code",
   "execution_count": null,
   "metadata": {},
   "outputs": [],
   "source": [
    "urls = {\n",
    "    'master': 'http://data.gdeltproject.org/gdeltv2/masterfilelist.txt'\n",
    "}"
   ]
  },
  {
   "cell_type": "code",
   "execution_count": null,
   "metadata": {},
   "outputs": [],
   "source": [
    "def clean_master(master):\n",
    "    \n",
    "    # drop nan cols\n",
    "    master = master.dropna(how='any')\n",
    "\n",
    "    # create date col\n",
    "    def parse_date(string):\n",
    "        return datetime \\\n",
    "            .datetime \\\n",
    "            .strptime(\n",
    "                str(re.findall('/([0-9]*)\\.', string)[0]),\n",
    "                \"%Y%m%d%H%M%S\"\n",
    "            )\n",
    "    master = master.assign(date=master.url.apply(parse_date))\n",
    "    \n",
    "    # create col_type\n",
    "    master = master.assign(col_type=master.url.apply(lambda url: url.split('.')[-3]))\n",
    "    \n",
    "    return master\n",
    "\n",
    "\n",
    "def fetch_master():\n",
    "    master = pd.read_csv(\n",
    "        urls['master'],\n",
    "        sep=\" \",\n",
    "        header=None,\n",
    "        names=['size', 'code', 'url']\n",
    "    )\n",
    "    return clean_master(master)\n",
    "\n",
    "\n",
    "master = fetch_master()\n",
    "\n",
    "master.head(7)"
   ]
  },
  {
   "cell_type": "code",
   "execution_count": null,
   "metadata": {},
   "outputs": [],
   "source": [
    "def sample_interval(master, date_min, date_max):\n",
    "    return master[(master.date >= d1) & (master.date <= d2)]\n",
    "\n",
    "# test\n",
    "d1 = datetime.datetime.strptime(\"2015-04-18 22:00:00\", \"%Y-%m-%d %H:%M:%S\")\n",
    "d2 = datetime.datetime.strptime(\"2015-04-18 22:15:00\", \"%Y-%m-%d %H:%M:%S\")\n",
    "sample_interval(master, d1, d2)"
   ]
  },
  {
   "cell_type": "code",
   "execution_count": null,
   "metadata": {},
   "outputs": [],
   "source": [
    "def clean_events(events):\n",
    "    \n",
    "    events = events.dropna()\n",
    "    \n",
    "    return events\n",
    "\n",
    "\n",
    "def fetch_events(url):\n",
    "    \n",
    "    # @TODO refactor this\n",
    "    columns = \"GlobalEventID Day MonthYear Year FractionDate Actor1Code Actor1Name Actor1CountryCode Actor1KnownGroupCode Actor1EthnicCode Actor1Religioni1Code Actor1Religion2Code Actor1Type1Code Actor1Type2Code Actor1Type3Code Actor2Code Actor2Name Actor2CountryCode Actor2KnownGroupCode Actor2EthnicCode Actor2Religioni1Code Actor2Religion2Code Actor2Type1Code Actor2Type2Code Actor2Type3Code IsRootEvent EventCode EventBaseCode EventRootCode QuadClass GoldsteinScale NumMentions NumSources NumArticles AvgTone Actor1Geo_Type Actor1Geo_Fullname Actor1Geo_CountryCode Actor1Geo_ADM1Code Actor1Geo_ADM2Code Actor1Geo_Lat Actor1Geo_Long Actor1Geo_FeatureID Actor2Geo_Type Actor2Geo_Fullname Actor2Geo_CountryCode Actor2Geo_ADM1Code Actor2Geo_ADM2Code Actor2Geo_Lat Actor2Geo_Long Actor2Geo_FeatureID ActionGeo_Type ActionGeo_Fullname ActionGeo_CountryCode ActionGeo_ADM1Code ActionGeo_ADM2Code ActionGeo_Lat ActionGeo_Long ActionGeo_FeatureID DATEADDED SOURCEURL\".split(\" \")\n",
    "    columns_use = [\"GlobalEventID\", \"Day\", \"Actor1Geo_Lat\", \"Actor1Geo_Long\", \"Actor2Geo_Lat\", \"Actor2Geo_Long\", 'NumMentions', 'NumSources', 'NumArticles', 'AvgTone', 'ActionGeo_Lat', 'ActionGeo_Long', 'DATEADDED', 'SOURCEURL']\n",
    "    \n",
    "    events = pd.read_csv(\n",
    "        url,\n",
    "        sep='\\t',\n",
    "        names=columns,\n",
    "        usecols=columns_use\n",
    "    )\n",
    "    \n",
    "    events = clean_events(events)\n",
    "\n",
    "    return events\n",
    "\n",
    "\n",
    "fetch_events(master.url[0]).head(4)"
   ]
  },
  {
   "cell_type": "code",
   "execution_count": null,
   "metadata": {},
   "outputs": [],
   "source": [
    "def sample_data(data, step_years, step_months, step_hours, step_minutes):\n",
    "    years = np.arange(2015,  2018, step_years)\n",
    "    months = np.arange(1, 12, step_months)\n",
    "    days = np.arange(1, 31, step_days)\n",
    "    hours = np.arange(0, 23, step_hours)\n",
    "    minutes = np.arange(0, 45, step_minutes)\n",
    "    \n",
    "    permutations = [\n",
    "        (d, mo, y, h, mi, 0)\n",
    "        for y in years\n",
    "        for mo in months\n",
    "        for d in days\n",
    "        for h in hours\n",
    "        for mi in minutes\n",
    "    ]\n",
    "    return data.Date.filter(items=permutations)"
   ]
  },
  {
   "cell_type": "code",
   "execution_count": null,
   "metadata": {},
   "outputs": [],
   "source": [
    "def in_list(x,permutations):\n",
    "    if x in permutations:\n",
    "        return x\n",
    "\n",
    "years = np.arange(2015,2018,1)\n",
    "months = np.arange(1,12,1)\n",
    "days = np.arange(1,31,5)\n",
    "hours = np.arange(0,23,5)\n",
    "minutes = np.arange(0,45,15)\n",
    "\n",
    "permutations = [ [d,mo,y,h,mi,0] for y in years for mo in months for d in days for h in hours for mi in minutes]\n",
    "master.Date.apply(lambda x: in_list(x,permutations))"
   ]
  },
  {
   "cell_type": "code",
   "execution_count": null,
   "metadata": {},
   "outputs": [],
   "source": [
    "export_names = \"GlobalEventID Day MonthYear Year FractionDate Actor1Code Actor1Name Actor1CountryCode Actor1KnownGroupCode Actor1EthnicCode Actor1Religioni1Code Actor1Religion2Code Actor1Type1Code Actor1Type2Code Actor1Type3Code Actor2Code Actor2Name Actor2CountryCode Actor2KnownGroupCode Actor2EthnicCode Actor2Religioni1Code Actor2Religion2Code Actor2Type1Code Actor2Type2Code Actor2Type3Code IsRootEvent EventCode EventBaseCode EventRootCode QuadClass GoldsteinScale NumMentions NumSources NumArticles AvgTone Actor1Geo_Type Actor1Geo_Fullname Actor1Geo_CountryCode Actor1Geo_ADM1Code Actor1Geo_ADM2Code Actor1Geo_Lat Actor1Geo_Long Actor1Geo_FeatureID Actor2Geo_Type Actor2Geo_Fullname Actor2Geo_CountryCode Actor2Geo_ADM1Code Actor2Geo_ADM2Code Actor2Geo_Lat Actor2Geo_Long Actor2Geo_FeatureID ActionGeo_Type ActionGeo_Fullname ActionGeo_CountryCode ActionGeo_ADM1Code ActionGeo_ADM2Code ActionGeo_Lat ActionGeo_Long ActionGeo_FeatureID DATEADDED SOURCEURL\"\n",
    "export_columns = export_names.split(\" \")\n",
    "export = pd.DataFrame(columns=export_columns)\n",
    "\n",
    "export = pd.read_csv(master['url'][6], sep = '\\t', names = export_columns,\n",
    "                     usecols = [\"GlobalEventID\", \"Day\", \"Actor1Geo_Lat\", \"Actor1Geo_Long\", \"Actor2Geo_Lat\", \"Actor2Geo_Long\",\n",
    "                                'NumMentions','NumSources','NumArticles','AvgTone', 'ActionGeo_Lat', 'ActionGeo_Long','DATEADDED','SOURCEURL'])\n",
    "export.dropna()\n",
    "\n",
    "export.head(4)"
   ]
  },
  {
   "cell_type": "code",
   "execution_count": null,
   "metadata": {},
   "outputs": [],
   "source": [
    "mention_names = \"GlobalEventId EventTimeDate MentionTimeDate MentionType MentionSourceName MentionIdentifier SentenceID ActorCharOffset Actor2CharOffset ActionCharOffset InRawTest Confidence MentionDocLen MentionDocTone MentionDocTranslationinfo Extras\"\n",
    "mention_columns = mention_names.split(\" \")\n",
    "mention = pd.DataFrame(columns=mention_columns)\n",
    "\n",
    "mention = pd.read_csv(master['URL'][1], sep = '\\t', names = mention_columns,\n",
    "                      usecols = [\"GlobalEventId\", \"EventTimeDate\", \"MentionTimeDate\"])\n",
    "mention.dropna()"
   ]
  },
  {
   "cell_type": "code",
   "execution_count": null,
   "metadata": {},
   "outputs": [],
   "source": [
    "for value in list1:\n",
    "    if len(list2[list2 == value]) == 1:\n",
    "        list3.append(value)"
   ]
  },
  {
   "cell_type": "code",
   "execution_count": null,
   "metadata": {},
   "outputs": [],
   "source": []
  }
 ],
 "metadata": {
  "kernelspec": {
   "display_name": "Python 3",
   "language": "python",
   "name": "python3"
  },
  "language_info": {
   "codemirror_mode": {
    "name": "ipython",
    "version": 3
   },
   "file_extension": ".py",
   "mimetype": "text/x-python",
   "name": "python",
   "nbconvert_exporter": "python",
   "pygments_lexer": "ipython3",
   "version": "3.6.5"
  }
 },
 "nbformat": 4,
 "nbformat_minor": 2
}
